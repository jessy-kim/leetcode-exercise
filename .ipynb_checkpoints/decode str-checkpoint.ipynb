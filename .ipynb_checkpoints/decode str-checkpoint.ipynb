{
 "cells": [
  {
   "cell_type": "code",
   "execution_count": 105,
   "metadata": {},
   "outputs": [],
   "source": [
    "a= '3[a2[cd]]ef'\n",
    "b= 'ef'\n",
    "c=\"3[a]2[bc]\""
   ]
  },
  {
   "cell_type": "code",
   "execution_count": 166,
   "metadata": {},
   "outputs": [],
   "source": [
    "result = ''\n",
    "sep = list(a)\n",
    "\n",
    "\n",
    "def decode(s)->str:\n",
    "    \n",
    "    old_sep = list(s)\n",
    "    sep = []\n",
    "    number = ['*']\n",
    "    for con in s:\n",
    "        if con.isnumeric():\n",
    "            number.append(con)\n",
    "        else:\n",
    "            if len(number)<=1:\n",
    "                sep.append(con)\n",
    "            else:\n",
    "                \n",
    "                real_num = ''.join(number[1:])\n",
    "                real_num = int(real_num)\n",
    "                sep.append(real_num)\n",
    "                number = ['*']\n",
    "                sep.append(con)\n",
    "    \n",
    "    checked = True\n",
    "    \n",
    "    init = len(sep)-1\n",
    "    num = 0\n",
    "    \n",
    "    checked = True\n",
    "    result = ''\n",
    "    content = []\n",
    "    \n",
    "    while init >= 0:\n",
    "        if sep[init] == '[':\n",
    "            content.append('!')  \n",
    "        elif type(sep[init]) == int:\n",
    "            num = sep[init]\n",
    "            real_content = ''\n",
    "            checked2=True\n",
    "            content.pop()\n",
    "            while checked2:\n",
    "                popped = content.pop()\n",
    "                if popped == '_':\n",
    "                    break\n",
    "                real_content+= popped\n",
    "            content.append(num*real_content)        \n",
    "        else:\n",
    "            if sep[init] == ']':\n",
    "                # 새 바구니 시작\n",
    "                content.append('_')\n",
    "            elif len(content) != 0:\n",
    "                # 새바구니에 content 담기 시작\n",
    "                content.append(sep[init])\n",
    "            else:\n",
    "                #그냥 글자만 있을 때\n",
    "                if len(content)==0:\n",
    "                    content.append(sep[init])             \n",
    "        \n",
    "        init -= 1\n",
    "            \n",
    "            \n",
    "    return ''.join(content[::-1])\n",
    "    "
   ]
  },
  {
   "cell_type": "code",
   "execution_count": 167,
   "metadata": {},
   "outputs": [],
   "source": [
    "d='ef3[lt]10[a]'"
   ]
  },
  {
   "cell_type": "code",
   "execution_count": 169,
   "metadata": {},
   "outputs": [
    {
     "name": "stdout",
     "output_type": "stream",
     "text": [
      "acdcdacdcdacdcdef\n",
      "ef\n",
      "aaabcbc\n",
      "efltltltaaaaaaaaaa\n"
     ]
    }
   ],
   "source": [
    "print(decode(a))\n",
    "print(decode(b))\n",
    "print(decode(c))\n",
    "print(decode(d))"
   ]
  },
  {
   "cell_type": "code",
   "execution_count": null,
   "metadata": {},
   "outputs": [],
   "source": []
  },
  {
   "attachments": {
    "image.png": {
     "image/png": "[encoded data removed]"
    }
   },
   "cell_type": "markdown",
   "metadata": {},
   "source": [
    "![image.png](attachment:image.png)"
   ]
  },
  {
   "cell_type": "code",
   "execution_count": null,
   "metadata": {},
   "outputs": [],
   "source": []
  }
 ],
 "metadata": {
  "kernelspec": {
   "display_name": "Python 3",
   "language": "python",
   "name": "python3"
  },
  "language_info": {
   "codemirror_mode": {
    "name": "ipython",
    "version": 3
   },
   "file_extension": ".py",
   "mimetype": "text/x-python",
   "name": "python",
   "nbconvert_exporter": "python",
   "pygments_lexer": "ipython3",
   "version": "3.7.6"
  }
 },
 "nbformat": 4,
 "nbformat_minor": 4
}
