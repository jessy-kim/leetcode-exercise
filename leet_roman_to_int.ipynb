{
 "cells": [
  {
   "cell_type": "code",
   "execution_count": 138,
   "metadata": {},
   "outputs": [],
   "source": [
    "def romanToInt(s):\n",
    "    \"\"\"\n",
    "    :type s: str\n",
    "    :rtype: int\n",
    "    \"\"\"\n",
    "    # 기초가 되는 문자에 해당숫자 dict로 넣어두기\n",
    "    support = ['I','V','X','L','C','D','M']\n",
    "    cf = dict()\n",
    "    num_1 = 0\n",
    "    num_2=0\n",
    "    for i,sym in enumerate(support):\n",
    "        if i % 2 == 0:\n",
    "            cf[sym] = 1*(10**num_1)\n",
    "            num_1 +=1\n",
    "        else:\n",
    "            cf[sym] = 5*(10**num_2)\n",
    "            num_2 +=1 \n",
    "\n",
    "    #        print(cf)\n",
    "\n",
    "\n",
    "\n",
    "    order = []\n",
    "    result = 0\n",
    "    for char in s:\n",
    "        order.append(cf[char])\n",
    "\n",
    "    if len(order)==1:\n",
    "        return order[0]\n",
    "    else:\n",
    "        for r in range(len(order)-1):\n",
    "            if order[r]>=order[r+1]:\n",
    "                result+= order[r]\n",
    "            else:\n",
    "                result-= order[r]\n",
    "        result+=order[-1]        \n",
    "        return result"
   ]
  },
  {
   "cell_type": "code",
   "execution_count": 140,
   "metadata": {},
   "outputs": [
    {
     "name": "stdout",
     "output_type": "stream",
     "text": [
      "149\n",
      "3453\n"
     ]
    }
   ],
   "source": [
    "print(romanToInt('CXLIX'))\n",
    "print(romanToInt('MMMCDLIII'))"
   ]
  },
  {
   "cell_type": "code",
   "execution_count": null,
   "metadata": {},
   "outputs": [],
   "source": []
  }
 ],
 "metadata": {
  "kernelspec": {
   "display_name": "Python 3",
   "language": "python",
   "name": "python3"
  },
  "language_info": {
   "codemirror_mode": {
    "name": "ipython",
    "version": 3
   },
   "file_extension": ".py",
   "mimetype": "text/x-python",
   "name": "python",
   "nbconvert_exporter": "python",
   "pygments_lexer": "ipython3",
   "version": "3.7.6"
  }
 },
 "nbformat": 4,
 "nbformat_minor": 4
}
